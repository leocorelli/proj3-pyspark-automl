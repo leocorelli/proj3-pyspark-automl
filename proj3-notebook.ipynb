# Databricks notebook source
import pyspark.pandas as ps

# COMMAND ----------

df = ps.read_csv("dbfs:/FileStore/shared_uploads/lmc121@duke.edu/winequality_red-2.csv")
df.head(30)

# COMMAND ----------

df.describe()

# COMMAND ----------

import databricks.automl

# COMMAND ----------

databricks.automl.regress(df, target_col= "quality")

# COMMAND ----------


